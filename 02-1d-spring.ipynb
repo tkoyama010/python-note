{
 "cells": [
  {
   "cell_type": "code",
   "execution_count": 1,
   "id": "88a4ec30-5c69-4f02-9af1-d6d8e4aae575",
   "metadata": {},
   "outputs": [],
   "source": [
    "import getfem as gf\n",
    "import numpy as np"
   ]
  },
  {
   "cell_type": "code",
   "execution_count": 2,
   "id": "f6c7dd8f-d813-48e8-8f9d-796b8cd112b9",
   "metadata": {},
   "outputs": [
    {
     "name": "stdout",
     "output_type": "stream",
     "text": [
      "\n",
      "BEGIN POINTS LIST\n",
      "\n",
      "  POINT COUNT 2\n",
      "  POINT  0  0\n",
      "  POINT  1  1\n",
      "\n",
      "END POINTS LIST\n",
      "\n",
      "\n",
      "\n",
      "BEGIN MESH STRUCTURE DESCRIPTION\n",
      "\n",
      "  CONVEX COUNT 1\n",
      "  CONVEX 0    'GT_PK(1,1)'      0  1\n",
      "\n",
      "END MESH STRUCTURE DESCRIPTION\n",
      "\n"
     ]
    }
   ],
   "source": [
    "X = np.array([0.0, 1.0])\n",
    "mesh = gf.Mesh(\"cartesian\", X)\n",
    "print(mesh)"
   ]
  },
  {
   "cell_type": "code",
   "execution_count": 3,
   "id": "0467ee96-5614-4a1b-8867-bcce01b99a29",
   "metadata": {},
   "outputs": [
    {
     "name": "stdout",
     "output_type": "stream",
     "text": [
      "[[0]\n",
      " [1]]\n"
     ]
    }
   ],
   "source": [
    "fb1 = mesh.outer_faces_with_direction([-1.0], 0.01)\n",
    "print(fb1)"
   ]
  },
  {
   "cell_type": "code",
   "execution_count": 4,
   "id": "5d9289ce-f6a5-4f8c-94e1-0f3f3e1541cf",
   "metadata": {},
   "outputs": [
    {
     "name": "stdout",
     "output_type": "stream",
     "text": [
      "[[0]\n",
      " [0]]\n"
     ]
    }
   ],
   "source": [
    "fb2 = mesh.outer_faces_with_direction([1.0], 0.01)\n",
    "print(fb2)"
   ]
  },
  {
   "cell_type": "code",
   "execution_count": 5,
   "id": "af95edaf-df95-4041-b236-9ecbd00fa866",
   "metadata": {},
   "outputs": [
    {
     "name": "stdout",
     "output_type": "stream",
     "text": [
      "[[0 0]\n",
      " [0 1]]\n"
     ]
    }
   ],
   "source": [
    "print(mesh.outer_faces_in_box([-1.0], [1.0]))"
   ]
  },
  {
   "cell_type": "code",
   "execution_count": 6,
   "id": "24a7c114-a01c-4b01-b7c2-3f3938d0d262",
   "metadata": {},
   "outputs": [
    {
     "name": "stdout",
     "output_type": "stream",
     "text": [
      "\n",
      "BEGIN POINTS LIST\n",
      "\n",
      "  POINT COUNT 2\n",
      "  POINT  0  0\n",
      "  POINT  1  1\n",
      "\n",
      "END POINTS LIST\n",
      "\n",
      "\n",
      "\n",
      "BEGIN MESH STRUCTURE DESCRIPTION\n",
      "\n",
      "  CONVEX COUNT 1\n",
      "  CONVEX 0    'GT_PK(1,1)'      0  1\n",
      "\n",
      "END MESH STRUCTURE DESCRIPTION\n",
      "BEGIN REGION 1\n",
      "0/1 \n",
      "END REGION 1\n",
      "BEGIN REGION 2\n",
      "0/0 \n",
      "END REGION 2\n",
      "\n"
     ]
    }
   ],
   "source": [
    "LEFT = 1\n",
    "RIGHT = 2\n",
    "mesh.set_region(LEFT, fb1)\n",
    "mesh.set_region(RIGHT, fb2)\n",
    "print(mesh)"
   ]
  },
  {
   "cell_type": "code",
   "execution_count": 7,
   "id": "3e457a45-25af-4833-9e06-c573102c9f6f",
   "metadata": {},
   "outputs": [
    {
     "name": "stdout",
     "output_type": "stream",
     "text": [
      "\n",
      "BEGIN MESH_FEM\n",
      "\n",
      "QDIM 1\n",
      " BEGIN DOF_ENUMERATION \n",
      " END DOF_ENUMERATION \n",
      "END MESH_FEM\n",
      "\n"
     ]
    }
   ],
   "source": [
    "mfu = gf.MeshFem(mesh, 1)\n",
    "print(mfu)"
   ]
  },
  {
   "cell_type": "code",
   "execution_count": 8,
   "id": "eb463f09-a366-4d88-8706-4551c19deb22",
   "metadata": {},
   "outputs": [
    {
     "name": "stdout",
     "output_type": "stream",
     "text": [
      "\n",
      "BEGIN MESH_FEM\n",
      "\n",
      "QDIM 1\n",
      " CONVEX 0 'FEM_PK(1,1)'\n",
      " BEGIN DOF_ENUMERATION \n",
      "  0:  0 1\n",
      " END DOF_ENUMERATION \n",
      "END MESH_FEM\n",
      "\n"
     ]
    }
   ],
   "source": [
    "f = gf.Fem(\"FEM_PK(1,1)\")\n",
    "mfu.set_fem(f)\n",
    "print(mfu)"
   ]
  },
  {
   "cell_type": "code",
   "execution_count": 9,
   "id": "3ddb5a92-5ccf-475e-a097-4bc31b52c1b0",
   "metadata": {},
   "outputs": [],
   "source": [
    "element_degree = 1\n",
    "mfu.set_classical_fem(element_degree)"
   ]
  },
  {
   "cell_type": "code",
   "execution_count": 10,
   "id": "a22f6d64-d212-4ddf-b968-cc5686fac477",
   "metadata": {},
   "outputs": [
    {
     "name": "stdout",
     "output_type": "stream",
     "text": [
      "\n",
      "BEGIN MESH_IM\n",
      "\n",
      " CONVEX 0 'IM_GAUSS1D(1)'\n",
      "END MESH_IM\n",
      "\n"
     ]
    }
   ],
   "source": [
    "im = gf.Integ(\"IM_GAUSS1D(1)\")\n",
    "mim = gf.MeshIm(mesh, im)\n",
    "print(mim)"
   ]
  },
  {
   "cell_type": "code",
   "execution_count": 11,
   "id": "ef7dd66e-e3d3-4152-a9dc-b44c3c2fc944",
   "metadata": {},
   "outputs": [],
   "source": [
    "md = gf.Model(\"real\")"
   ]
  },
  {
   "cell_type": "code",
   "execution_count": 12,
   "id": "ee3c9f45-3474-49f4-949c-ad77b4e9aff9",
   "metadata": {},
   "outputs": [],
   "source": [
    "md.add_fem_variable(\"u\", mfu)"
   ]
  },
  {
   "cell_type": "code",
   "execution_count": 13,
   "id": "4c583432-6086-477c-93fb-f34815456f27",
   "metadata": {},
   "outputs": [
    {
     "data": {
      "text/plain": [
       "0"
      ]
     },
     "execution_count": 13,
     "metadata": {},
     "output_type": "execute_result"
    }
   ],
   "source": [
    "k = 2.0\n",
    "md.add_initialized_data(\"k\", [k])\n",
    "md.add_generic_elliptic_brick(mim, \"u\", \"k\")"
   ]
  },
  {
   "cell_type": "code",
   "execution_count": 14,
   "id": "584f8ea0-4502-46cc-8905-f4c4601d9017",
   "metadata": {},
   "outputs": [
    {
     "data": {
      "text/plain": [
       "1"
      ]
     },
     "execution_count": 14,
     "metadata": {},
     "output_type": "execute_result"
    }
   ],
   "source": [
    "md.add_initialized_data(\"H\", [[1.0]])\n",
    "md.add_initialized_data(\"r\", [0.0])\n",
    "md.add_generalized_Dirichlet_condition_with_multipliers(\n",
    "    mim, \"u\", mfu, LEFT, \"r\", \"H\"\n",
    ")"
   ]
  },
  {
   "cell_type": "code",
   "execution_count": 15,
   "id": "5da51b0f-1c97-4e8b-a7f8-b3ce3d221c48",
   "metadata": {},
   "outputs": [
    {
     "data": {
      "text/plain": [
       "2"
      ]
     },
     "execution_count": 15,
     "metadata": {},
     "output_type": "execute_result"
    }
   ],
   "source": [
    "F = mfu.eval(\"1.0\")\n",
    "md.add_initialized_fem_data(\"F\", mfu, F)\n",
    "md.add_source_term_brick(mim, \"u\", \"F\", RIGHT)"
   ]
  },
  {
   "cell_type": "code",
   "execution_count": 16,
   "id": "39a6fb26-b4cf-4468-b27f-cd2de3eb78e0",
   "metadata": {},
   "outputs": [
    {
     "name": "stdout",
     "output_type": "stream",
     "text": [
      "None\n",
      "message from gf_model_get follow:\n",
      "List of model bricks:\n",
      "Brick   0     Generic elliptic\n",
      "  concerned variables: u.\n",
      "  brick with 1 term\n",
      "Brick   1 Dirichlet with multipliers brick\n",
      "  concerned variables: u, mult_on_u.\n",
      "  brick with 1 term\n",
      "Brick   2          Source term\n",
      "  concerned variables: u.\n",
      "  brick with 1 term\n",
      "\n"
     ]
    }
   ],
   "source": [
    "print(md.brick_list())"
   ]
  },
  {
   "cell_type": "code",
   "execution_count": 17,
   "id": "15de3793-caff-4f2a-b5b9-4aa042e5f08a",
   "metadata": {},
   "outputs": [
    {
     "name": "stderr",
     "output_type": "stream",
     "text": [
      "Trace 2 in getfem_models.cc, line 4325: Mass term assembly for Dirichlet condition\n",
      "Trace 2 in getfem_models.cc, line 4362: Source term assembly for Dirichlet condition\n",
      "Trace 2 in getfem_models.cc, line 3446: Generic elliptic: generic matrix assembly\n",
      "Trace 2 in getfem_models.cc, line 4325: Mass term assembly for Dirichlet condition\n",
      "Trace 2 in getfem_models.cc, line 4362: Source term assembly for Dirichlet condition\n",
      "Trace 2 in getfem_models.cc, line 3293: Generic source term assembly\n",
      "Trace 2 in getfem_models.cc, line 3300: Source term: generic source term assembly\n",
      "Trace 2 in getfem_models.cc, line 3307: Source term: generic matrix assembly\n"
     ]
    },
    {
     "data": {
      "text/plain": [
       "(0, 1)"
      ]
     },
     "execution_count": 17,
     "metadata": {},
     "output_type": "execute_result"
    }
   ],
   "source": [
    "md.solve()"
   ]
  },
  {
   "cell_type": "code",
   "execution_count": 18,
   "id": "fe5eed99-3a69-43e0-90cf-0d2dbbbbb03f",
   "metadata": {},
   "outputs": [
    {
     "name": "stdout",
     "output_type": "stream",
     "text": [
      "[0.  0.5]\n"
     ]
    }
   ],
   "source": [
    "U = md.variable(\"u\")\n",
    "print(U)"
   ]
  },
  {
   "cell_type": "code",
   "execution_count": 19,
   "id": "e47db5e1-6680-4073-afa3-fa207e6fcc5e",
   "metadata": {},
   "outputs": [],
   "source": [
    "mfu.export_to_vtk(\"mfu.vtk\", \"ascii\", mfu, U, \"U\")"
   ]
  },
  {
   "cell_type": "code",
   "execution_count": 20,
   "id": "d29e3268-6223-483f-bf0f-eb3d615d0534",
   "metadata": {},
   "outputs": [
    {
     "name": "stdout",
     "output_type": "stream",
     "text": [
      "0.5\n"
     ]
    }
   ],
   "source": [
    "print((F / k)[1])"
   ]
  },
  {
   "cell_type": "code",
   "execution_count": 21,
   "id": "cc24f1f7-074e-4a43-a68d-d2a4fae207fd",
   "metadata": {},
   "outputs": [],
   "source": [
    "import pyvista as pv\n",
    "\n",
    "pv.start_xvfb()"
   ]
  },
  {
   "cell_type": "code",
   "execution_count": 22,
   "id": "a7602aff-3f0c-489f-9bb0-8e0fae1637b5",
   "metadata": {},
   "outputs": [
    {
     "name": "stdout",
     "output_type": "stream",
     "text": [
      "UnstructuredGrid (0x7fd049456ac0)\n",
      "  N Cells:\t1\n",
      "  N Points:\t2\n",
      "  X Bounds:\t0.000e+00, 1.000e+00\n",
      "  Y Bounds:\t0.000e+00, 0.000e+00\n",
      "  Z Bounds:\t0.000e+00, 0.000e+00\n",
      "  N Arrays:\t1\n",
      "\n"
     ]
    }
   ],
   "source": [
    "m = pv.read(\"mfu.vtk\")\n",
    "print(m)"
   ]
  },
  {
   "cell_type": "code",
   "execution_count": 23,
   "id": "e083e7c5-0b7d-44dd-9af7-f3b72c998c53",
   "metadata": {},
   "outputs": [
    {
     "data": {
      "image/png": "[encoded data removed]",
      "text/plain": [
       "<PIL.Image.Image image mode=RGB size=1024x768 at 0x7FD049528A60>"
      ]
     },
     "metadata": {},
     "output_type": "display_data"
    }
   ],
   "source": [
    "m.plot(jupyter_backend=\"static\")"
   ]
  },
  {
   "cell_type": "code",
   "execution_count": null,
   "id": "70d88b95-2e69-4665-9aeb-2f0a0b02a5a4",
   "metadata": {},
   "outputs": [],
   "source": []
  }
 ],
 "metadata": {
  "kernelspec": {
   "display_name": "Python 3 (ipykernel)",
   "language": "python",
   "name": "python3"
  },
  "language_info": {
   "codemirror_mode": {
    "name": "ipython",
    "version": 3
   },
   "file_extension": ".py",
   "mimetype": "text/x-python",
   "name": "python",
   "nbconvert_exporter": "python",
   "pygments_lexer": "ipython3",
   "version": "3.8.10"
  }
 },
 "nbformat": 4,
 "nbformat_minor": 5
}
